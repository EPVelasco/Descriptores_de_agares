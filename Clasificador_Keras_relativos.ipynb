{
 "cells": [
  {
   "cell_type": "code",
   "execution_count": 1,
   "metadata": {},
   "outputs": [
    {
     "name": "stderr",
     "output_type": "stream",
     "text": [
      "C:\\Users\\Edison Velasco\\Anaconda3\\envs\\ambiente\\lib\\site-packages\\h5py\\__init__.py:36: FutureWarning: Conversion of the second argument of issubdtype from `float` to `np.floating` is deprecated. In future, it will be treated as `np.float64 == np.dtype(float).type`.\n",
      "  from ._conv import register_converters as _register_converters\n",
      "Using TensorFlow backend.\n"
     ]
    }
   ],
   "source": [
    "from keras.models import Sequential\n",
    "from keras.layers.core import Dense, Activation,Dropout\n",
    "from sklearn.model_selection import train_test_split\n",
    "from sklearn.metrics import confusion_matrix\n",
    "from sklearn import preprocessing\n",
    "#from sklearn.preprocessing import StandardScaler\n",
    "import pandas as pd\n",
    "import keras\n",
    "import numpy as np\n",
    "import matplotlib.pyplot as plt\n",
    "import itertools\n",
    "##porcentajes\n",
    "from sklearn.metrics import accuracy_score\n",
    "from sklearn.metrics import precision_score\n",
    "from sklearn.metrics import recall_score\n",
    "from sklearn.metrics import f1_score\n",
    "from sklearn.metrics import average_precision_score\n",
    "##\n",
    "from sklearn.model_selection import KFold\n",
    "%matplotlib inline  "
   ]
  },
  {
   "cell_type": "code",
   "execution_count": 15,
   "metadata": {},
   "outputs": [
    {
     "data": {
      "text/plain": [
       "Vaso01        623\n",
       "Caja01        464\n",
       "Botella01     429\n",
       "Pelota01      419\n",
       "Botella02     418\n",
       "Cilindro01    417\n",
       "Pelota02      399\n",
       "Name: Nombre, dtype: int64"
      ]
     },
     "execution_count": 15,
     "metadata": {},
     "output_type": "execute_result"
    }
   ],
   "source": [
    "#data_train=pd.read_csv(\"Dataset.csv\")\n",
    "data_train=pd.read_csv(\"Dataset_relativos_COMPLETO.csv\")\n",
    "data_train[\"Nombre\"].value_counts()"
   ]
  },
  {
   "cell_type": "code",
   "execution_count": 16,
   "metadata": {},
   "outputs": [],
   "source": [
    "y_train=data_train[data_train.columns[-1]]\n",
    "data_names=[]\n",
    "for i in data_train[data_train.columns[0]]:\n",
    "    if i not in data_names:\n",
    "        data_names.append(i)\n",
    "#data_train=data_train[data_train.columns[3:19]]#para solo datos de posiciones articulares\n",
    "#data_train=data_train[data_train.columns[19:-1]]#para solo datos de sensores Tekscan\n",
    "data_train=data_train[data_train.columns[3:-1]]#para datos de posiciones articulares y de sensores Tekscan"
   ]
  },
  {
   "cell_type": "code",
   "execution_count": null,
   "metadata": {},
   "outputs": [],
   "source": []
  },
  {
   "cell_type": "code",
   "execution_count": 17,
   "metadata": {},
   "outputs": [
    {
     "name": "stdout",
     "output_type": "stream",
     "text": [
      "[33, 34, 37, 38, 41, 42, 44, 45, 46, 47, 52, 53, 54, 55, 60, 61, 62, 63, 66, 68, 69, 70, 71, 89, 90, 91, 93, 94, 95, 96, 97, 98, 99]\n"
     ]
    }
   ],
   "source": [
    "lim=int((data_train.shape)[1])\n",
    "i=0\n",
    "cont_eli=0\n",
    "colum_delet=[]\n",
    "#while (False):\n",
    "while (i<lim):\n",
    "    j=data_train[data_train.columns[i]].as_matrix()\n",
    "    if min(j) == max(j):\n",
    "        data_train.drop(data_train[data_train.columns[[i]]],axis=1, inplace=True)\n",
    "        lim=lim-1           \n",
    "        colum_delet.append(cont_eli+i)\n",
    "        cont_eli=cont_eli+1\n",
    "    else:\n",
    "        i=i+1\n",
    "print (colum_delet)\n",
    "#min_max_scaler = preprocessing.MinMaxScaler()\n",
    "#np_scaled = min_max_scaler.fit_transform(data_train)#Normalizado\n",
    "\n",
    "stand_scaler = preprocessing.StandardScaler()\n",
    "np_scaled = stand_scaler.fit_transform(data_train) #Normalizado\n",
    "\n",
    "#convierto nuevamente a formato de PADAS para visualizacion\n",
    "datos_x = pd.DataFrame(np_scaled) \n",
    "\n"
   ]
  },
  {
   "cell_type": "code",
   "execution_count": 18,
   "metadata": {},
   "outputs": [],
   "source": [
    "##Guardar archivo de columnas eliminadas para futuras predicciones\n",
    "file_columns=open('colum_delet.csv','w')\n",
    "file_columns.write(str(colum_delet))\n",
    "file_columns.close()"
   ]
  },
  {
   "cell_type": "code",
   "execution_count": 19,
   "metadata": {},
   "outputs": [
    {
     "name": "stdout",
     "output_type": "stream",
     "text": [
      "0\n",
      "0\n",
      "0\n",
      "0\n",
      "0\n",
      "0\n",
      "0\n"
     ]
    }
   ],
   "source": [
    "x_train,x_test, y_train, y_test0 =train_test_split(datos_x.as_matrix(),y_train.as_matrix(),test_size=0)\n",
    "print(np.count_nonzero(y_test0==1))\n",
    "print(np.count_nonzero(y_test0==2))\n",
    "print(np.count_nonzero(y_test0==3))\n",
    "print(np.count_nonzero(y_test0==4))\n",
    "print(np.count_nonzero(y_test0==5))\n",
    "print(np.count_nonzero(y_test0==6))\n",
    "print(np.count_nonzero(y_test0==7))\n",
    "#Cambiar matrices a Formato para entrenamiento con ANN \n",
    "y_t=(np.asarray([[i] for i in y_train],dtype=np.int)-1)\n",
    "y_ent=keras.utils.to_categorical(y_t, num_classes=7)\n",
    "y_te=np.asarray([[i] for i in y_test0],dtype=np.int)-1\n",
    "y_test=keras.utils.to_categorical(y_te, num_classes=7)"
   ]
  },
  {
   "cell_type": "code",
   "execution_count": 20,
   "metadata": {},
   "outputs": [
    {
     "data": {
      "text/plain": [
       "67"
      ]
     },
     "execution_count": 20,
     "metadata": {},
     "output_type": "execute_result"
    }
   ],
   "source": [
    "input_dim=x_train.shape[1]\n",
    "input_dim"
   ]
  },
  {
   "cell_type": "code",
   "execution_count": 21,
   "metadata": {},
   "outputs": [],
   "source": [
    "k_fold = KFold(5)\n",
    "X=x_train\n",
    "y=y_train"
   ]
  },
  {
   "cell_type": "code",
   "execution_count": 22,
   "metadata": {
    "scrolled": true
   },
   "outputs": [
    {
     "name": "stdout",
     "output_type": "stream",
     "text": [
      "Epoch 1/20\n",
      "2535/2535 [==============================] - 1s 315us/step - loss: 0.6983 - acc: 0.7850\n",
      "Epoch 2/20\n",
      "2535/2535 [==============================] - 0s 120us/step - loss: 0.2546 - acc: 0.9179\n",
      "Epoch 3/20\n",
      "2535/2535 [==============================] - 0s 124us/step - loss: 0.1536 - acc: 0.9511\n",
      "Epoch 4/20\n",
      "2535/2535 [==============================] - 0s 128us/step - loss: 0.1017 - acc: 0.9665\n",
      "Epoch 5/20\n",
      "2535/2535 [==============================] - 0s 119us/step - loss: 0.0654 - acc: 0.9830\n",
      "Epoch 6/20\n",
      "2535/2535 [==============================] - 0s 117us/step - loss: 0.0488 - acc: 0.9846\n",
      "Epoch 7/20\n",
      "2535/2535 [==============================] - 0s 121us/step - loss: 0.0370 - acc: 0.9893\n",
      "Epoch 8/20\n",
      "2535/2535 [==============================] - 0s 119us/step - loss: 0.0274 - acc: 0.9941\n",
      "Epoch 9/20\n",
      "2535/2535 [==============================] - 0s 116us/step - loss: 0.0217 - acc: 0.9957\n",
      "Epoch 10/20\n",
      "2535/2535 [==============================] - 0s 121us/step - loss: 0.0157 - acc: 0.9980\n",
      "Epoch 11/20\n",
      "2535/2535 [==============================] - 0s 100us/step - loss: 0.0165 - acc: 0.9976\n",
      "Epoch 12/20\n",
      "2535/2535 [==============================] - 0s 97us/step - loss: 0.0108 - acc: 0.9996\n",
      "Epoch 13/20\n",
      "2535/2535 [==============================] - 0s 98us/step - loss: 0.0102 - acc: 0.9992\n",
      "Epoch 14/20\n",
      "2535/2535 [==============================] - 0s 99us/step - loss: 0.0090 - acc: 0.9996\n",
      "Epoch 15/20\n",
      "2535/2535 [==============================] - 0s 107us/step - loss: 0.0087 - acc: 0.9996\n",
      "Epoch 16/20\n",
      "2535/2535 [==============================] - 0s 100us/step - loss: 0.0082 - acc: 0.9996\n",
      "Epoch 17/20\n",
      "2535/2535 [==============================] - 0s 120us/step - loss: 0.0080 - acc: 0.9996\n",
      "Epoch 18/20\n",
      "2535/2535 [==============================] - 0s 115us/step - loss: 0.0076 - acc: 0.9996\n",
      "Epoch 19/20\n",
      "2535/2535 [==============================] - 0s 96us/step - loss: 0.0075 - acc: 0.9996\n",
      "Epoch 20/20\n",
      "2535/2535 [==============================] - 0s 97us/step - loss: 0.0073 - acc: 0.9996\n",
      "Accuracy: 0.9384858044164038\n",
      "Precision: 0.9417805975075885\n",
      "Recall: 0.937960619963547\n",
      "F1 score: 0.9381409402934181\n",
      "Epoch 1/20\n",
      "2535/2535 [==============================] - 1s 334us/step - loss: 0.6990 - acc: 0.7791\n",
      "Epoch 2/20\n",
      "2535/2535 [==============================] - 0s 111us/step - loss: 0.2602 - acc: 0.9176\n",
      "Epoch 3/20\n",
      "2535/2535 [==============================] - 0s 115us/step - loss: 0.1637 - acc: 0.9495\n",
      "Epoch 4/20\n",
      "2535/2535 [==============================] - 0s 106us/step - loss: 0.1164 - acc: 0.9669\n",
      "Epoch 5/20\n",
      "2535/2535 [==============================] - 0s 111us/step - loss: 0.0774 - acc: 0.9763\n",
      "Epoch 6/20\n",
      "2535/2535 [==============================] - 0s 122us/step - loss: 0.0583 - acc: 0.9815\n",
      "Epoch 7/20\n",
      "2535/2535 [==============================] - 0s 99us/step - loss: 0.0415 - acc: 0.9878\n",
      "Epoch 8/20\n",
      "2535/2535 [==============================] - 0s 96us/step - loss: 0.0295 - acc: 0.9917\n",
      "Epoch 9/20\n",
      "2535/2535 [==============================] - 0s 98us/step - loss: 0.0217 - acc: 0.9929\n",
      "Epoch 10/20\n",
      "2535/2535 [==============================] - 0s 120us/step - loss: 0.0142 - acc: 0.9976\n",
      "Epoch 11/20\n",
      "2535/2535 [==============================] - 0s 96us/step - loss: 0.0110 - acc: 0.9980\n",
      "Epoch 12/20\n",
      "2535/2535 [==============================] - 0s 96us/step - loss: 0.0067 - acc: 0.9992\n",
      "Epoch 13/20\n",
      "2535/2535 [==============================] - 0s 96us/step - loss: 0.0061 - acc: 0.9988\n",
      "Epoch 14/20\n",
      "2535/2535 [==============================] - 0s 134us/step - loss: 0.0048 - acc: 0.9992\n",
      "Epoch 15/20\n",
      "2535/2535 [==============================] - 0s 107us/step - loss: 0.0033 - acc: 1.0000\n",
      "Epoch 16/20\n",
      "2535/2535 [==============================] - 0s 151us/step - loss: 0.0026 - acc: 1.0000\n",
      "Epoch 17/20\n",
      "2535/2535 [==============================] - 0s 110us/step - loss: 0.0022 - acc: 1.0000\n",
      "Epoch 18/20\n",
      "2535/2535 [==============================] - 0s 112us/step - loss: 0.0020 - acc: 0.9996\n",
      "Epoch 19/20\n",
      "2535/2535 [==============================] - 0s 112us/step - loss: 0.0017 - acc: 1.0000\n",
      "Epoch 20/20\n",
      "2535/2535 [==============================] - 0s 96us/step - loss: 0.0013 - acc: 1.0000\n",
      "Accuracy: 0.9589905362776026\n",
      "Precision: 0.9577401214578991\n",
      "Recall: 0.9545350174865556\n",
      "F1 score: 0.9555215494921877\n",
      "Epoch 1/20\n",
      "2535/2535 [==============================] - 1s 320us/step - loss: 0.6764 - acc: 0.7893\n",
      "Epoch 2/20\n",
      "2535/2535 [==============================] - 0s 105us/step - loss: 0.2383 - acc: 0.9176\n",
      "Epoch 3/20\n",
      "2535/2535 [==============================] - 0s 111us/step - loss: 0.1323 - acc: 0.9590\n",
      "Epoch 4/20\n",
      "2535/2535 [==============================] - 0s 98us/step - loss: 0.0798 - acc: 0.9755\n",
      "Epoch 5/20\n",
      "2535/2535 [==============================] - 0s 120us/step - loss: 0.0560 - acc: 0.9819\n",
      "Epoch 6/20\n",
      "2535/2535 [==============================] - 0s 98us/step - loss: 0.0407 - acc: 0.9862\n",
      "Epoch 7/20\n",
      "2535/2535 [==============================] - 0s 98us/step - loss: 0.0313 - acc: 0.9897\n",
      "Epoch 8/20\n",
      "2535/2535 [==============================] - 0s 98us/step - loss: 0.0171 - acc: 0.9957\n",
      "Epoch 9/20\n",
      "2535/2535 [==============================] - 0s 95us/step - loss: 0.0123 - acc: 0.9972\n",
      "Epoch 10/20\n",
      "2535/2535 [==============================] - 0s 104us/step - loss: 0.0106 - acc: 0.9988\n",
      "Epoch 11/20\n",
      "2535/2535 [==============================] - 0s 107us/step - loss: 0.0067 - acc: 0.9996\n",
      "Epoch 12/20\n",
      "2535/2535 [==============================] - 0s 106us/step - loss: 0.0066 - acc: 0.9988\n",
      "Epoch 13/20\n",
      "2535/2535 [==============================] - 0s 102us/step - loss: 0.0039 - acc: 0.9996\n",
      "Epoch 14/20\n",
      "2535/2535 [==============================] - 0s 107us/step - loss: 0.0026 - acc: 1.0000\n",
      "Epoch 15/20\n",
      "2535/2535 [==============================] - 0s 98us/step - loss: 0.0023 - acc: 1.0000\n",
      "Epoch 16/20\n",
      "2535/2535 [==============================] - 0s 97us/step - loss: 0.0032 - acc: 0.9996\n",
      "Epoch 17/20\n",
      "2535/2535 [==============================] - 0s 96us/step - loss: 0.0015 - acc: 1.0000\n",
      "Epoch 18/20\n",
      "2535/2535 [==============================] - 0s 99us/step - loss: 0.0011 - acc: 1.0000\n",
      "Epoch 19/20\n",
      "2535/2535 [==============================] - 0s 99us/step - loss: 0.0010 - acc: 1.0000\n",
      "Epoch 20/20\n",
      "2535/2535 [==============================] - 0s 96us/step - loss: 8.8763e-04 - acc: 1.0000\n",
      "Accuracy: 0.9558359621451105\n",
      "Precision: 0.9545723763911917\n",
      "Recall: 0.9548369670500595\n",
      "F1 score: 0.9536379898638112\n",
      "Epoch 1/20\n",
      "2535/2535 [==============================] - 1s 308us/step - loss: 0.6550 - acc: 0.7941\n",
      "Epoch 2/20\n",
      "2535/2535 [==============================] - 0s 102us/step - loss: 0.2588 - acc: 0.9140\n",
      "Epoch 3/20\n",
      "2535/2535 [==============================] - 0s 99us/step - loss: 0.1524 - acc: 0.9503\n",
      "Epoch 4/20\n",
      "2535/2535 [==============================] - 0s 101us/step - loss: 0.1129 - acc: 0.9708\n",
      "Epoch 5/20\n",
      "2535/2535 [==============================] - 0s 98us/step - loss: 0.0670 - acc: 0.9826\n",
      "Epoch 6/20\n",
      "2535/2535 [==============================] - 0s 101us/step - loss: 0.0459 - acc: 0.9897\n",
      "Epoch 7/20\n",
      "2535/2535 [==============================] - 0s 97us/step - loss: 0.0302 - acc: 0.9933\n",
      "Epoch 8/20\n",
      "2535/2535 [==============================] - 0s 107us/step - loss: 0.0244 - acc: 0.9937\n",
      "Epoch 9/20\n",
      "2535/2535 [==============================] - 0s 102us/step - loss: 0.0160 - acc: 0.9968\n",
      "Epoch 10/20\n",
      "2535/2535 [==============================] - 0s 105us/step - loss: 0.0120 - acc: 0.9976\n",
      "Epoch 11/20\n",
      "2535/2535 [==============================] - 0s 96us/step - loss: 0.0085 - acc: 0.9988\n",
      "Epoch 12/20\n",
      "2535/2535 [==============================] - ETA: 0s - loss: 0.0065 - acc: 0.999 - 0s 114us/step - loss: 0.0064 - acc: 0.9992\n",
      "Epoch 13/20\n",
      "2535/2535 [==============================] - 0s 99us/step - loss: 0.0048 - acc: 0.9992\n",
      "Epoch 14/20\n",
      "2535/2535 [==============================] - 0s 109us/step - loss: 0.0042 - acc: 0.9988\n",
      "Epoch 15/20\n",
      "2535/2535 [==============================] - 0s 102us/step - loss: 0.0037 - acc: 0.9992\n",
      "Epoch 16/20\n",
      "2535/2535 [==============================] - 0s 99us/step - loss: 0.0028 - acc: 0.9996\n",
      "Epoch 17/20\n",
      "2535/2535 [==============================] - 0s 99us/step - loss: 0.0020 - acc: 1.0000\n",
      "Epoch 18/20\n",
      "2535/2535 [==============================] - 0s 97us/step - loss: 0.0018 - acc: 1.0000\n",
      "Epoch 19/20\n"
     ]
    },
    {
     "name": "stdout",
     "output_type": "stream",
     "text": [
      "2535/2535 [==============================] - 0s 97us/step - loss: 0.0015 - acc: 1.0000\n",
      "Epoch 20/20\n",
      "2535/2535 [==============================] - 0s 99us/step - loss: 0.0013 - acc: 1.0000\n",
      "Accuracy: 0.9589905362776026\n",
      "Precision: 0.959783612729515\n",
      "Recall: 0.9582640418547353\n",
      "F1 score: 0.9587841714955656\n",
      "Epoch 1/20\n",
      "2536/2536 [==============================] - 1s 329us/step - loss: 0.7255 - acc: 0.7701\n",
      "Epoch 2/20\n",
      "2536/2536 [==============================] - 0s 99us/step - loss: 0.2659 - acc: 0.9160\n",
      "Epoch 3/20\n",
      "2536/2536 [==============================] - 0s 105us/step - loss: 0.1585 - acc: 0.9495\n",
      "Epoch 4/20\n",
      "2536/2536 [==============================] - 0s 106us/step - loss: 0.1011 - acc: 0.9716\n",
      "Epoch 5/20\n",
      "2536/2536 [==============================] - 0s 95us/step - loss: 0.0788 - acc: 0.9771\n",
      "Epoch 6/20\n",
      "2536/2536 [==============================] - 0s 95us/step - loss: 0.0543 - acc: 0.9850\n",
      "Epoch 7/20\n",
      "2536/2536 [==============================] - 0s 97us/step - loss: 0.0344 - acc: 0.9917\n",
      "Epoch 8/20\n",
      "2536/2536 [==============================] - 0s 99us/step - loss: 0.0276 - acc: 0.9933\n",
      "Epoch 9/20\n",
      "2536/2536 [==============================] - 0s 97us/step - loss: 0.0199 - acc: 0.9965\n",
      "Epoch 10/20\n",
      "2536/2536 [==============================] - 0s 97us/step - loss: 0.0143 - acc: 0.9968\n",
      "Epoch 11/20\n",
      "2536/2536 [==============================] - 0s 103us/step - loss: 0.0108 - acc: 0.9976\n",
      "Epoch 12/20\n",
      "2536/2536 [==============================] - 0s 100us/step - loss: 0.0105 - acc: 0.9980\n",
      "Epoch 13/20\n",
      "2536/2536 [==============================] - 0s 98us/step - loss: 0.0057 - acc: 0.9992\n",
      "Epoch 14/20\n",
      "2536/2536 [==============================] - 0s 97us/step - loss: 0.0043 - acc: 0.9996\n",
      "Epoch 15/20\n",
      "2536/2536 [==============================] - 0s 104us/step - loss: 0.0039 - acc: 0.9992\n",
      "Epoch 16/20\n",
      "2536/2536 [==============================] - 0s 105us/step - loss: 0.0027 - acc: 0.9996\n",
      "Epoch 17/20\n",
      "2536/2536 [==============================] - 0s 109us/step - loss: 0.0022 - acc: 1.0000\n",
      "Epoch 18/20\n",
      "2536/2536 [==============================] - 0s 101us/step - loss: 0.0018 - acc: 1.0000\n",
      "Epoch 19/20\n",
      "2536/2536 [==============================] - 0s 107us/step - loss: 0.0015 - acc: 1.0000\n",
      "Epoch 20/20\n",
      "2536/2536 [==============================] - 0s 98us/step - loss: 0.0013 - acc: 1.0000\n",
      "Accuracy: 0.9605055292259084\n",
      "Precision: 0.9582677077622221\n",
      "Recall: 0.9600570545748968\n",
      "F1 score: 0.958918872473447\n"
     ]
    }
   ],
   "source": [
    "for k, (train, test) in enumerate(k_fold.split(X, y)):\n",
    "    \n",
    "    model = Sequential() #envoltura para el modelo\n",
    "    model.add(Dense(100, activation='relu', input_dim=x_train.shape[1]))\n",
    "    model.add(Dense(1000, activation='relu'))\n",
    "    model.add(Dense(50, activation='relu'))\n",
    "    #uints dimension espacio de salida, https://keras.io/layers/core/\n",
    "    model.add(Dense(7, activation='softmax'))\n",
    "    model.compile(loss=keras.losses.categorical_crossentropy,\n",
    "                optimizer=keras.optimizers.Adadelta(lr=1, rho=0.98, epsilon=1e-6, decay=0.001),metrics=['accuracy'])\n",
    "\n",
    "    y_t=(np.asarray([[i] for i in y],dtype=np.int)-1)    \n",
    "    y_ent=keras.utils.to_categorical(y_t[train], num_classes=7)\n",
    "    \n",
    "    history=model.fit(X[train],y_ent,epochs=20,batch_size=32)\n",
    "    pred=model.predict_on_batch(X[test]) #predicciones para calcular accuracy por validacion cruzada\n",
    "    prediccion=[]\n",
    "    for i in pred:\n",
    "        prediccion.append(np.argmax(i))\n",
    "    real=y[test]-1\n",
    "    \n",
    "    c_matrix=confusion_matrix(real,prediccion)#reales vs prediccion\n",
    "    FP = c_matrix.sum(axis=0) - np.diag(c_matrix)  \n",
    "    FN = c_matrix.sum(axis=1) - np.diag(c_matrix)\n",
    "    TP = np.diag(c_matrix)\n",
    "    TN = c_matrix.sum() - (FP + FN + TP)\n",
    "    Acc = (TP+TN)/(TP+FP+FN+TN)\n",
    "    Pre = (TP)/(TP+FP)\n",
    "    Re = (TP)/(TP+FN)\n",
    "    F1 = 2*(Pre*Re)/(Pre+Re)\n",
    "    #print('Accuracy: '+ str(Acc.sum()/7))\n",
    "    #print('Precision: '+ str(Pre.sum()/7))#real vs predicho\n",
    "    #print('Recall: '+ str(Re.sum()/7))\n",
    "    #print('F1 score: ' +str(F1.sum()/7))\n",
    "    \n",
    "    print('Accuracy: '+ str(accuracy_score(prediccion,real)))\n",
    "    print('Precision: '+ str(precision_score( prediccion, real,  average = 'macro' )))#real vs predicho\n",
    "    print('Recall: '+ str(recall_score( prediccion,real,  average = 'macro' )))\n",
    "    print('F1 score: ' +str(f1_score( prediccion, real, average = 'macro' )))\n",
    "    if k<4:\n",
    "        del model\n",
    "#\n",
    "#"
   ]
  },
  {
   "cell_type": "code",
   "execution_count": 10,
   "metadata": {},
   "outputs": [
    {
     "name": "stdout",
     "output_type": "stream",
     "text": [
      "dict_keys(['loss', 'acc'])\n"
     ]
    },
    {
     "data": {
      "image/png": "[encoded data removed]",
      "text/plain": [
       "<Figure size 576x576 with 1 Axes>"
      ]
     },
     "metadata": {},
     "output_type": "display_data"
    },
    {
     "data": {
      "image/png": "[encoded data removed]",
      "text/plain": [
       "<Figure size 576x576 with 1 Axes>"
      ]
     },
     "metadata": {},
     "output_type": "display_data"
    }
   ],
   "source": [
    "# list all data in history\n",
    "plt.figure(figsize=(8,8))\n",
    "print(history.history.keys())\n",
    "# summarize history for accuracy\n",
    "plt.plot(history.history['acc'])\n",
    "plt.title('Accuracy MLP3z ', fontsize=22)\n",
    "plt.ylabel('Accuracy', fontsize=14)\n",
    "plt.xlabel('Epochs', fontsize=14)\n",
    "plt.show()\n",
    "plt.figure(figsize=(8,8))\n",
    "# summarize history for loss\n",
    "plt.plot(history.history['loss'])\n",
    "plt.title('Loss MLP3z', fontsize=22)\n",
    "plt.ylabel('Loss', fontsize=14)\n",
    "plt.xlabel('Epochs', fontsize=14)\n",
    "plt.show()"
   ]
  },
  {
   "cell_type": "code",
   "execution_count": 11,
   "metadata": {},
   "outputs": [
    {
     "data": {
      "text/plain": [
       "[]"
      ]
     },
     "execution_count": 11,
     "metadata": {},
     "output_type": "execute_result"
    }
   ],
   "source": [
    "score = model.evaluate(x_test, y_test)\n",
    "score"
   ]
  },
  {
   "cell_type": "code",
   "execution_count": 12,
   "metadata": {},
   "outputs": [],
   "source": [
    "a=model.predict_on_batch(x_test)\n",
    "#model.save('model_articular.h5')\n",
    "model.save('model_relativo.h5')"
   ]
  },
  {
   "cell_type": "code",
   "execution_count": null,
   "metadata": {},
   "outputs": [],
   "source": []
  },
  {
   "cell_type": "code",
   "execution_count": 13,
   "metadata": {},
   "outputs": [],
   "source": [
    "real=[]\n",
    "prediccion=[]\n",
    "for i in a:\n",
    "    prediccion.append(np.argmax(i))\n",
    "for j in y_test:\n",
    "    real.append(np.argmax(j))"
   ]
  },
  {
   "cell_type": "code",
   "execution_count": 14,
   "metadata": {},
   "outputs": [
    {
     "name": "stdout",
     "output_type": "stream",
     "text": [
      "Accuracy: nan\n",
      "Precision: nan\n",
      "Recall: nan\n",
      "F1 score: nan\n"
     ]
    },
    {
     "name": "stderr",
     "output_type": "stream",
     "text": [
      "C:\\Users\\Edison Velasco\\Anaconda3\\envs\\ambiente\\lib\\site-packages\\numpy\\lib\\function_base.py:1128: RuntimeWarning: Mean of empty slice.\n",
      "  avg = a.mean(axis)\n",
      "C:\\Users\\Edison Velasco\\Anaconda3\\envs\\ambiente\\lib\\site-packages\\numpy\\core\\_methods.py:80: RuntimeWarning: invalid value encountered in double_scalars\n",
      "  ret = ret.dtype.type(ret / rcount)\n"
     ]
    }
   ],
   "source": [
    "c_matrix=confusion_matrix(real,prediccion)#reales vs prediccion\n",
    "FP = c_matrix.sum(axis=0) - np.diag(c_matrix)  \n",
    "FN = c_matrix.sum(axis=1) - np.diag(c_matrix)\n",
    "TP = np.diag(c_matrix)\n",
    "TN = c_matrix.sum() - (FP + FN + TP)\n",
    "Acc = (TP+TN)/(TP+FP+FN+TN)\n",
    "Pre = (TP)/(TP+FP)\n",
    "Re = (TP)/(TP+FN)\n",
    "F1 = 2*(Pre*Re)/(Pre+Re)\n",
    "print('Accuracy: '+ str(accuracy_score(prediccion,real)))\n",
    "print('Precision: '+ str(precision_score( prediccion, real,  average = 'macro' )))#real vs predicho\n",
    "print('Recall: '+ str(recall_score( prediccion,real,  average = 'macro' )))\n",
    "print('F1 score: ' +str(f1_score( prediccion, real, average = 'macro' )))"
   ]
  },
  {
   "cell_type": "code",
   "execution_count": null,
   "metadata": {},
   "outputs": [],
   "source": []
  },
  {
   "cell_type": "code",
   "execution_count": 33,
   "metadata": {},
   "outputs": [],
   "source": [
    "def plot_confusion_matrix(cm, classes,\n",
    "                          normalize=False,\n",
    "                          title='Confusion matrix',\n",
    "                          cmap=plt.cm.Blues):\n",
    "    \"\"\"\n",
    "    This function prints and plots the confusion matrix.\n",
    "    Normalization can be applied by setting `normalize=True`.\n",
    "    \"\"\"\n",
    "    if normalize:\n",
    "        cm = cm.astype('float') / cm.sum(axis=1)[:, np.newaxis]\n",
    "    plt.imshow(cm, interpolation='nearest', cmap=cmap)\n",
    "    plt.title(title)\n",
    "    plt.colorbar()\n",
    "    tick_marks = np.arange(len(classes))\n",
    "    plt.xticks(tick_marks, classes, rotation=45)\n",
    "    plt.yticks(tick_marks, classes)\n",
    "\n",
    "    fmt = '.2f' if normalize else 'd'\n",
    "    thresh = cm.max() / 2.\n",
    "    for i, j in itertools.product(range(cm.shape[0]), range(cm.shape[1])):\n",
    "        plt.text(j, i, format(cm[i, j], fmt),\n",
    "                 horizontalalignment=\"center\",\n",
    "                 color=\"white\" if cm[i, j] > thresh else \"black\")\n",
    "\n",
    "    plt.tight_layout()\n",
    "    plt.ylabel('True label')\n",
    "    plt.xlabel('Predicted label')"
   ]
  },
  {
   "cell_type": "code",
   "execution_count": 34,
   "metadata": {},
   "outputs": [
    {
     "data": {
      "image/png": "[encoded data removed]",
      "text/plain": [
       "<Figure size 576x576 with 2 Axes>"
      ]
     },
     "metadata": {},
     "output_type": "display_data"
    }
   ],
   "source": [
    "plt.figure(figsize=(8,8))\n",
    "plot_confusion_matrix(c_matrix,classes=data_names,normalize=False)"
   ]
  },
  {
   "cell_type": "code",
   "execution_count": 108,
   "metadata": {},
   "outputs": [
    {
     "data": {
      "image/png": "[encoded data removed]",
      "text/plain": [
       "<Figure size 576x576 with 2 Axes>"
      ]
     },
     "metadata": {},
     "output_type": "display_data"
    }
   ],
   "source": [
    "plt.figure(figsize=(8,8))\n",
    "plot_confusion_matrix(c_matrix,classes=data_names,normalize=True)"
   ]
  },
  {
   "cell_type": "code",
   "execution_count": null,
   "metadata": {},
   "outputs": [],
   "source": []
  }
 ],
 "metadata": {
  "kernelspec": {
   "display_name": "Python 3",
   "language": "python",
   "name": "python3"
  },
  "language_info": {
   "codemirror_mode": {
    "name": "ipython",
    "version": 3
   },
   "file_extension": ".py",
   "mimetype": "text/x-python",
   "name": "python",
   "nbconvert_exporter": "python",
   "pygments_lexer": "ipython3",
   "version": "3.6.5"
  }
 },
 "nbformat": 4,
 "nbformat_minor": 2
}
